{
 "cells": [
  {
   "cell_type": "code",
   "execution_count": 1,
   "id": "cdf8576f",
   "metadata": {},
   "outputs": [
    {
     "data": {
      "text/plain": [
       "'f(x) = -12x^4*sin(cos(x)) - 18x^3+5x^2 + 10x - 30\\n - Определить корни\\n - Найти интервалы, на которых функция возрастает\\n - Найти интервалы, на которых функция убывает\\n - Построить график\\n - Вычислить вершину\\n - Определить промежутки, на котором f > 0\\n - Определить промежутки, на котором f < 0\\n'"
      ]
     },
     "execution_count": 1,
     "metadata": {},
     "output_type": "execute_result"
    }
   ],
   "source": [
    "'''f(x) = -12x^4*sin(cos(x)) - 18x^3+5x^2 + 10x - 30\n",
    " - Определить корни\n",
    " - Найти интервалы, на которых функция возрастает\n",
    " - Найти интервалы, на которых функция убывает\n",
    " - Построить график\n",
    " - Вычислить вершину\n",
    " - Определить промежутки, на котором f > 0\n",
    " - Определить промежутки, на котором f < 0\n",
    "'''"
   ]
  },
  {
   "cell_type": "code",
   "execution_count": 2,
   "id": "3727bd23",
   "metadata": {},
   "outputs": [],
   "source": [
    "import matplotlib.pyplot as plt\n",
    "import numpy as np"
   ]
  },
  {
   "cell_type": "code",
   "execution_count": 3,
   "id": "84aef96a",
   "metadata": {},
   "outputs": [],
   "source": [
    "import sympy as sp"
   ]
  },
  {
   "cell_type": "code",
   "execution_count": 4,
   "id": "9b5088f1",
   "metadata": {},
   "outputs": [],
   "source": [
    "def func(x):\n",
    "    return -12*x**4*np.sin(np.cos(x)) - 18*x**3+5*x**2 + 10*x - 30"
   ]
  },
  {
   "cell_type": "code",
   "execution_count": 5,
   "id": "8d488bd0",
   "metadata": {},
   "outputs": [
    {
     "data": {
      "text/latex": [
       "$\\displaystyle 12 x^{4} \\sin{\\left(x \\right)} \\cos{\\left(\\cos{\\left(x \\right)} \\right)} - 48 x^{3} \\sin{\\left(\\cos{\\left(x \\right)} \\right)} - 54 x^{2} + 10 x + 10$"
      ],
      "text/plain": [
       "12*x**4*sin(x)*cos(cos(x)) - 48*x**3*sin(cos(x)) - 54*x**2 + 10*x + 10"
      ]
     },
     "execution_count": 5,
     "metadata": {},
     "output_type": "execute_result"
    }
   ],
   "source": [
    "xs =sp.Symbol('x',real=True)\n",
    "f = -12*xs**4*sp.sin(sp.cos(xs)) - 18*xs**3+5*xs**2 + 10*xs - 30\n",
    "d = sp.diff(f)\n",
    "d"
   ]
  },
  {
   "cell_type": "code",
   "execution_count": 6,
   "id": "d379fcc6",
   "metadata": {},
   "outputs": [],
   "source": [
    "lhs = -10\n",
    "rhs = 10\n",
    "N = (abs(lhs)+abs(rhs))*100\n",
    "x = np.linspace(lhs,rhs,N)\n",
    "y = [func(x_i) for x_i in x]"
   ]
  },
  {
   "cell_type": "code",
   "execution_count": 7,
   "id": "7baa6420",
   "metadata": {},
   "outputs": [],
   "source": [
    "def mid(f, lhs, rhs, eps=1e-10):\n",
    "    while abs(lhs-rhs) > eps:\n",
    "        mid = (lhs+rhs)/2\n",
    "        if f(lhs)*f(mid) > 0:\n",
    "            lhs = mid\n",
    "        else:\n",
    "            rhs = mid\n",
    "    return mid"
   ]
  },
  {
   "cell_type": "markdown",
   "id": "b321b6e6",
   "metadata": {},
   "source": [
    "- определение корней"
   ]
  },
  {
   "cell_type": "code",
   "execution_count": 8,
   "id": "a72c2855",
   "metadata": {},
   "outputs": [
    {
     "name": "stdout",
     "output_type": "stream",
     "text": [
      "X = -7.65062\n",
      "X = -5.02687\n",
      "X = -1.33897\n",
      "X = 2.27306\n",
      "X = 4.38352\n",
      "X = 8.03516\n"
     ]
    }
   ],
   "source": [
    "root = []\n",
    "for i in range(x.size-1):\n",
    "    q =  mid(func,x[i],x[i+1])  \n",
    "    if round(func(q),4) == 0:\n",
    "        root.append(round(q,5))\n",
    "        print(f\"X = {round(q,5)}\")"
   ]
  },
  {
   "cell_type": "markdown",
   "id": "7cf8ae91",
   "metadata": {},
   "source": [
    " - Найти интервалы, на которых функция возрастает\n",
    " - Найти интервалы, на которых функция убывает"
   ]
  },
  {
   "cell_type": "code",
   "execution_count": 9,
   "id": "f7d458ee",
   "metadata": {},
   "outputs": [],
   "source": [
    "def func_d(x):\n",
    "    return d.subs(xs,x)"
   ]
  },
  {
   "cell_type": "code",
   "execution_count": 10,
   "id": "6f896a2a",
   "metadata": {},
   "outputs": [
    {
     "name": "stdout",
     "output_type": "stream",
     "text": [
      "X = -9.97895\n",
      "X = -6.83137\n",
      "X = -4.16778\n",
      "X = -0.39268\n",
      "X = 0.45457\n",
      "X = 1.70061\n",
      "X = 3.81931\n",
      "X = 7.00103\n",
      "X = 9.87715\n"
     ]
    }
   ],
   "source": [
    "extr = []\n",
    "for i in range(x.size-2):\n",
    "    q =  mid(func_d,x[i],x[i+1])  \n",
    "    if round(func_d(q),4) == 0:\n",
    "        extr.append(round(q,5))\n",
    "        print(f\"X = {round(q,5)}\")"
   ]
  },
  {
   "cell_type": "code",
   "execution_count": 11,
   "id": "59399494",
   "metadata": {},
   "outputs": [
    {
     "name": "stdout",
     "output_type": "stream",
     "text": [
      "На отрезке (-10 < X < -9.97895) функция возрастает\n",
      "На отрезке (-9.97895 < X < -6.83137) функция убывает\n",
      "На отрезке (-6.83137 < X < -4.16778) функция возрастает\n",
      "На отрезке (-4.16778 < X < -0.39268) функция убывает\n",
      "На отрезке (-0.39268 < X < 0.45457) функция возрастает\n",
      "На отрезке (0.45457 < X < 1.70061) функция убывает\n",
      "На отрезке (1.70061 < X < 3.81931) функция возрастает\n",
      "На отрезке (3.81931 < X < 7.00103) функция убывает\n",
      "На отрезке (7.00103 < X < 9.87715) функция возрастает\n",
      "На отрезке (9.87715 < X < 10) функция убывает\n"
     ]
    }
   ],
   "source": [
    "interval = [lhs]\n",
    "interval += extr\n",
    "interval.append(rhs)\n",
    "for i in range(len(interval)-1):\n",
    "    if func((interval[i] + interval[i+1])/2) > func(interval[i]):\n",
    "        ans = 'возрастает'\n",
    "    else:\n",
    "        ans = 'убывает'\n",
    "    print(f'На отрезке ({interval[i]} < X < {interval[i+1]}) функция {ans}')"
   ]
  },
  {
   "cell_type": "markdown",
   "id": "6db86448",
   "metadata": {},
   "source": [
    "- Построить график"
   ]
  },
  {
   "cell_type": "code",
   "execution_count": 12,
   "id": "35676b8d",
   "metadata": {},
   "outputs": [
    {
     "data": {
      "text/plain": [
       "[<matplotlib.lines.Line2D at 0x1a967763340>]"
      ]
     },
     "execution_count": 12,
     "metadata": {},
     "output_type": "execute_result"
    },
    {
     "data": {
      "image/png": "[encoded data removed]",
      "text/plain": [
       "<Figure size 640x480 with 1 Axes>"
      ]
     },
     "metadata": {},
     "output_type": "display_data"
    }
   ],
   "source": [
    "plt.plot(x,y)"
   ]
  },
  {
   "cell_type": "markdown",
   "id": "49fa8600",
   "metadata": {},
   "source": [
    "- Вычислить вершину"
   ]
  },
  {
   "cell_type": "code",
   "execution_count": 13,
   "id": "55556d33",
   "metadata": {},
   "outputs": [
    {
     "name": "stdout",
     "output_type": "stream",
     "text": [
      "Координаты МАХ ((-9.97895, 107678.04164320501))\n",
      "Координаты МIХ ((7.00103, -25610.509680985426))\n"
     ]
    }
   ],
   "source": [
    "h_extr = max(extr, key=func)\n",
    "l_extr = min(extr, key=func)\n",
    "print(f'Координаты МАХ ({h_extr,func(h_extr)})')\n",
    "print(f'Координаты МIХ ({l_extr,func(l_extr)})')"
   ]
  },
  {
   "cell_type": "markdown",
   "id": "7cda8bc9",
   "metadata": {},
   "source": [
    "- Определить промежутки, на котором f > 0\n",
    "- Определить промежутки, на котором f < 0"
   ]
  },
  {
   "cell_type": "code",
   "execution_count": 15,
   "id": "6f9aca1d",
   "metadata": {},
   "outputs": [
    {
     "name": "stdout",
     "output_type": "stream",
     "text": [
      "[-10,-9.97895]  f > 0\n",
      "[-9.97895,-6.83137]  f > 0\n",
      "[-6.83137,-4.16778]  f < 0\n",
      "[-4.16778,-0.39268]  f > 0\n",
      "[-0.39268,0.45457]  f < 0\n",
      "[0.45457,1.70061]  f < 0\n",
      "[1.70061,3.81931]  f > 0\n",
      "[3.81931,7.00103]  f < 0\n",
      "[7.00103,9.87715]  f > 0\n",
      "[9.87715,10]  f > 0\n"
     ]
    }
   ],
   "source": [
    "interval_c = [lhs]\n",
    "interval_c += root\n",
    "interval_c.append(rhs)\n",
    "for i in range(len(interval)-1):\n",
    "    if func((interval[i] + interval[i+1])/2) > 0:\n",
    "        ans = 'f > 0'\n",
    "    else:\n",
    "        ans = 'f < 0'\n",
    "    print(f'[{interval[i]},{interval[i+1]}]  {ans}')"
   ]
  },
  {
   "cell_type": "code",
   "execution_count": null,
   "id": "a56c6002",
   "metadata": {},
   "outputs": [],
   "source": []
  }
 ],
 "metadata": {
  "kernelspec": {
   "display_name": "Python 3 (ipykernel)",
   "language": "python",
   "name": "python3"
  },
  "language_info": {
   "codemirror_mode": {
    "name": "ipython",
    "version": 3
   },
   "file_extension": ".py",
   "mimetype": "text/x-python",
   "name": "python",
   "nbconvert_exporter": "python",
   "pygments_lexer": "ipython3",
   "version": "3.9.13"
  }
 },
 "nbformat": 4,
 "nbformat_minor": 5
}
